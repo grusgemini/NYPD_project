{
 "cells": [
  {
   "cell_type": "code",
   "execution_count": 2,
   "metadata": {},
   "outputs": [],
   "source": [
    "from mylib import data_processing as dp\n",
    "import matplotlib.pyplot as plt\n"
   ]
  },
  {
   "cell_type": "markdown",
   "metadata": {},
   "source": [
    "\n",
    "At the very beginning we will load the files and take a look at the data. Then we will process it to make it more clear and easy to perform analysis"
   ]
  },
  {
   "cell_type": "code",
   "execution_count": 23,
   "metadata": {},
   "outputs": [
    {
     "name": "stdout",
     "output_type": "stream",
     "text": [
      "  Numer zezwolenia                                        Nazwa firmy  \\\n",
      "0           394/23      AMKA  Spółka z ograniczoną odpowiedzialnością   \n",
      "1           404/23   WORMAR K Spółka z ograniczoną odpowiedzialnością   \n",
      "2           407/23                                    RAFAŁ DZILIŃSKI   \n",
      "3           5/W/24  ALKOSWIAT Spółka z ograniczoną odpowiedzialnością   \n",
      "4           6/W/24             Matyl Fenikost Aleksadra Matyl-Stawowy   \n",
      "\n",
      "  Kod pocztowy    Miejscowość                         Adres       Województwo  \\\n",
      "0       02-972       Warszawa  Aleja Rzeczypospolitej 18/83  WOJ. MAZOWIECKIE   \n",
      "1       83-300        Kartuzy                ul. Zamkowa 23    WOJ. POMORSKIE   \n",
      "2       06-400      Ciechanów                 ul. Leśna 52   WOJ. MAZOWIECKIE   \n",
      "3       43-300  Bielsko-Biała     ul. Wincentego Witosa 170      WOJ. ŚLĄSKIE   \n",
      "4       34-212      Bieńkówka                 Bienkówka 454  WOJ. MAŁOPOLSKIE   \n",
      "\n",
      "  Data ważności  \n",
      "0    2025-02-28  \n",
      "1    2025-03-03  \n",
      "2    2025-02-21  \n",
      "3    2025-03-30  \n",
      "4    2025-04-20  \n"
     ]
    }
   ],
   "source": [
    "alcohol_data = dp.load_csv_file(\"/Users/kacper/Desktop/NYPD_project/data/alcohol_data.csv\")  \n",
    "print(alcohol_data.head())"
   ]
  },
  {
   "cell_type": "code",
   "execution_count": 24,
   "metadata": {},
   "outputs": [
    {
     "name": "stdout",
     "output_type": "stream",
     "text": [
      "  Miejscowość  Count\n",
      "0    warszawa     78\n",
      "1      kraków     15\n",
      "2      poznań     12\n",
      "3        łódź     11\n",
      "4      gdynia      7\n"
     ]
    }
   ],
   "source": [
    "alcohol_cols_to_drop = ['Numer zezwolenia', 'Nazwa firmy', 'Kod pocztowy', 'Adres', 'Województwo', 'Data ważności']\n",
    "alcohol_data = dp.drop_columns(alcohol_data, alcohol_cols_to_drop)\n",
    "alcohol_data = dp.delete_spaces(alcohol_data, 'Miejscowość')\n",
    "alcohol_data = dp.cut_after_comma(alcohol_data, 'Miejscowość')\n",
    "alcohol_data = dp.count_unique(alcohol_data, 'Miejscowość')\n",
    "print(alcohol_data.head())"
   ]
  },
  {
   "cell_type": "code",
   "execution_count": 25,
   "metadata": {},
   "outputs": [
    {
     "name": "stdout",
     "output_type": "stream",
     "text": [
      "   TERYT   Województwo         Powiat         Gmina  Ogółem zdarzeń rok 2023  \\\n",
      "0  20101  dolnośląskie  bolesławiecki   Bolesławiec                      461   \n",
      "1  20102  dolnośląskie  bolesławiecki   Bolesławiec                      242   \n",
      "2  20103  dolnośląskie  bolesławiecki      Gromadka                      161   \n",
      "3  20104  dolnośląskie  bolesławiecki  Nowogrodziec                      285   \n",
      "4  20105  dolnośląskie  bolesławiecki    Osiecznica                      124   \n",
      "\n",
      "   Ogółem zdarzeń rok 2024  Pożary rok 2023  Pożary rok 2024  \\\n",
      "0                      506               91               79   \n",
      "1                      525               68               75   \n",
      "2                      153               37               66   \n",
      "3                      370              121              155   \n",
      "4                      153               30               41   \n",
      "\n",
      "   Miejscowe zagrożenia rok 2023  Miejscowe zagrożenia rok 2024  \\\n",
      "0                            310                            366   \n",
      "1                            160                            427   \n",
      "2                            110                             77   \n",
      "3                            148                            197   \n",
      "4                             83                             98   \n",
      "\n",
      "   Alarmy fałszywe rok 2023  Alarmy fałszywe rok 2024  \n",
      "0                        60                        61  \n",
      "1                        14                        23  \n",
      "2                        14                        10  \n",
      "3                        16                        18  \n",
      "4                        11                        14  \n"
     ]
    }
   ],
   "source": [
    "fire_incidents_data = dp.load_excel_file(\"/Users/kacper/Desktop/NYPD_project/data/fire_incidents.xlsx\", 0)   \n",
    "print(fire_incidents_data.head())"
   ]
  },
  {
   "cell_type": "code",
   "execution_count": 9,
   "metadata": {},
   "outputs": [
    {
     "name": "stdout",
     "output_type": "stream",
     "text": [
      "   TERYT         Gmina  Ogółem zdarzeń rok 2024  Pożary rok 2024  \\\n",
      "0  20101   bolesławiec                      506               79   \n",
      "1  20102   bolesławiec                      525               75   \n",
      "2  20103      gromadka                      153               66   \n",
      "3  20104  nowogrodziec                      370              155   \n",
      "4  20105    osiecznica                      153               41   \n",
      "\n",
      "   Miejscowe zagrożenia rok 2024  Alarmy fałszywe rok 2024  \n",
      "0                            366                        61  \n",
      "1                            427                        23  \n",
      "2                             77                        10  \n",
      "3                            197                        18  \n",
      "4                             98                        14  \n"
     ]
    }
   ],
   "source": [
    "fire_columns_to_drop = ['Województwo', 'Powiat', 'Ogółem zdarzeń rok 2023', 'Pożary rok 2023', 'Miejscowe zagrożenia rok 2023', 'Alarmy fałszywe rok 2023'] \n",
    "fire_incidents_data = dp.drop_columns(fire_incidents_data, fire_columns_to_drop)\n",
    "fire_incidents_data = dp.lower_the_case(fire_incidents_data, 'Gmina')\n",
    "fire_incidents_data['TERYT'] = fire_incidents_data['TERYT'].astype(str)\n",
    "print(fire_incidents_data.head())"
   ]
  },
  {
   "cell_type": "code",
   "execution_count": 26,
   "metadata": {},
   "outputs": [
    {
     "name": "stdout",
     "output_type": "stream",
     "text": [
      "   WOJ. DOLNOŚLĄSKIE            2868242  10920   18194   32463  81  -14269  \\\n",
      "0      M.Bolesławiec  0201011     36795    129     223     480   1    -257   \n",
      "1      G.Bolesławiec  0201022     15359     62      74     114   -     -40   \n",
      "2         G.Gromadka  0201032      4978     14      27      62   -     -35   \n",
      "3   M-W.Nowogrodziec  0201043     14523     64      88     143   1     -55   \n",
      "4     M.Nowogrodziec  0201044      4050     15      31      49   1     -18   \n",
      "\n",
      "   39057   35478  ...  1549  1130  419  3998  3.7989  6.3295   11.2935  \\\n",
      "0    387     456  ...    14    10    4   -65  3.4993  6.0493   13.0208   \n",
      "1    346     202  ...     5     2    3   147  4.0422  4.8246    7.4325   \n",
      "2     65      63  ...     5     3    2     4  2.8017  5.4032   12.4074   \n",
      "3    173     207  ...     7    10   -3   -37  4.3863  6.0311    9.8006   \n",
      "4     60      63  ...     1     7   -6    -9  3.6792  7.6036   12.0186   \n",
      "\n",
      "   -4.964  1.3909    4.452  \n",
      "0 -6.9716 -1.7632   4.4843  \n",
      "1 -2.6079   9.584        -  \n",
      "2 -7.0042  0.8005        -  \n",
      "3 -3.7694 -2.5358  11.3636  \n",
      "4  -4.415 -2.2075  32.2581  \n",
      "\n",
      "[5 rows x 21 columns]\n"
     ]
    }
   ],
   "source": [
    "population_data = dp.load_excel_file(\"/Users/kacper/Desktop/NYPD_project/data/population_data.xls\", 8)  \n",
    "print(population_data.head())"
   ]
  },
  {
   "cell_type": "code",
   "execution_count": 19,
   "metadata": {},
   "outputs": [
    {
     "name": "stdout",
     "output_type": "stream",
     "text": [
      "   Nazwa jednostki    Kod  Populacja\n",
      "0      bolesławiec  20101      36795\n",
      "4     nowogrodziec  20104       4050\n",
      "8          bielawa  20201      27713\n",
      "9      dzierżoniów  20202      30312\n",
      "11        pieszyce  20203       6750\n"
     ]
    }
   ],
   "source": [
    "population_data = population_data.iloc[:,[0,1,2]]\n",
    "population_data.columns = ['Nazwa jednostki','Kod', 'Populacja']\n",
    "population_data = dp.delete_prefix(population_data, 'Kod', '0')\n",
    "population_data = dp.drop_last_char(population_data, 'Kod')\n",
    "population_data = dp.drop_rows_by_prefix(population_data, 'Nazwa jednostki', 'M-W.')\n",
    "population_data = dp.drop_rows_by_prefix(population_data, 'Nazwa jednostki', 'G.')\n",
    "population_data = dp.delete_prefix(population_data, 'Nazwa jednostki', 'M.')\n",
    "population_data = dp.delete_prefix(population_data, 'Nazwa jednostki', '.')\n",
    "population_data = dp.lower_the_case(population_data, 'Nazwa jednostki')\n",
    "print(population_data.head())"
   ]
  },
  {
   "cell_type": "code",
   "execution_count": 27,
   "metadata": {},
   "outputs": [
    {
     "name": "stdout",
     "output_type": "stream",
     "text": [
      "        TERYT       Nazwa jednostki  Powierzchnia [ha]  Powierzchnia [km2]  \\\n",
      "0          00                POLSKA           31393293              313933   \n",
      "1          02     WOJ. DOLNOŚLĄSKIE            1994714               19947   \n",
      "2     02 01    Powiat bolesławiecki             130351                1304   \n",
      "3  02 01 01 1           Bolesławiec               2285                  23   \n",
      "4  02 01 02 2           Bolesławiec              28913                 289   \n",
      "\n",
      "   Unnamed: 4                                         Unnamed: 5  \n",
      "0         NaN  Kolumna „Powierzchnia [km2]” prezentuje dane o...  \n",
      "1         NaN  Powierzchnie wszystkich rodzajów jednostek pod...  \n",
      "2         NaN  Wobec zastosowania reguły Kryłowa-Bradisa suma...  \n",
      "3         NaN                                                NaN  \n",
      "4         NaN                                                NaN  \n"
     ]
    }
   ],
   "source": [
    "area_data = dp.load_excel_file(\"/Users/kacper/Desktop/NYPD_project/data/area_data.xlsx\", 0)  \n",
    "print(area_data.head())"
   ]
  },
  {
   "cell_type": "code",
   "execution_count": 22,
   "metadata": {},
   "outputs": [
    {
     "name": "stdout",
     "output_type": "stream",
     "text": [
      "   TERYT      Nazwa jednostki  Powierzchnia [km2]\n",
      "0                      polska              313933\n",
      "1            woj.dolnośląskie               19947\n",
      "2     20  powiatbolesławiecki                1304\n",
      "3  20101          bolesławiec                  23\n",
      "4  20102          bolesławiec                 289\n"
     ]
    }
   ],
   "source": [
    "area_columns_to_drop = ['Powierzchnia [ha]', 'Unnamed: 4', 'Unnamed: 5']\n",
    "area_data = dp.drop_columns(area_data, area_columns_to_drop)    \n",
    "area_data = dp.lower_the_case(area_data, 'Nazwa jednostki')\n",
    "area_data = dp.delete_spaces(area_data, 'TERYT')\n",
    "area_data = dp.delete_spaces(area_data, 'Nazwa jednostki')\n",
    "area_data = dp.delete_prefix(area_data, 'TERYT', '0')\n",
    "area_data = dp.drop_last_char(area_data, 'TERYT')\n",
    "area_data = dp.drop_rows_by_suffix(area_data, 'Nazwa jednostki', '-miasto')\n",
    "area_data = dp.drop_rows_by_suffix(area_data, 'Nazwa jednostki', '-obszarwiejski')\n",
    "print(area_data.head())"
   ]
  },
  {
   "cell_type": "markdown",
   "metadata": {},
   "source": [
    "Now that we have out data prepared for analysis, we can merge merge some of them together and calculate the correlation. \n",
    "First we will take a look at the relationship between number of alcohol sellers and population."
   ]
  },
  {
   "cell_type": "code",
   "execution_count": 29,
   "metadata": {},
   "outputs": [
    {
     "ename": "KeyError",
     "evalue": "'Nazwa jednostki'",
     "output_type": "error",
     "traceback": [
      "\u001b[0;31m---------------------------------------------------------------------------\u001b[0m",
      "\u001b[0;31mKeyError\u001b[0m                                  Traceback (most recent call last)",
      "\u001b[0;32m/var/folders/51/bgsg4f1n5dx_6j0443mp_wgc0000gn/T/ipykernel_72004/2365729422.py\u001b[0m in \u001b[0;36m?\u001b[0;34m()\u001b[0m\n\u001b[0;32m----> 1\u001b[0;31m \u001b[0malcohol_vs_population\u001b[0m \u001b[0;34m=\u001b[0m \u001b[0mdp\u001b[0m\u001b[0;34m.\u001b[0m\u001b[0mcustom_merge\u001b[0m\u001b[0;34m(\u001b[0m\u001b[0malcohol_data\u001b[0m\u001b[0;34m,\u001b[0m \u001b[0mpopulation_data\u001b[0m\u001b[0;34m,\u001b[0m \u001b[0;34m'Miejscowość'\u001b[0m\u001b[0;34m,\u001b[0m \u001b[0;34m'Nazwa jednostki'\u001b[0m\u001b[0;34m)\u001b[0m\u001b[0;34m\u001b[0m\u001b[0;34m\u001b[0m\u001b[0m\n\u001b[0m\u001b[1;32m      2\u001b[0m \u001b[0mcorr_alc_vs_pop\u001b[0m \u001b[0;34m=\u001b[0m \u001b[0malcohol_vs_population\u001b[0m\u001b[0;34m[\u001b[0m\u001b[0;34m\"Count\"\u001b[0m\u001b[0;34m]\u001b[0m\u001b[0;34m.\u001b[0m\u001b[0mcorr\u001b[0m\u001b[0;34m(\u001b[0m\u001b[0malcohol_vs_population\u001b[0m\u001b[0;34m[\u001b[0m\u001b[0;34m\"Populacja\"\u001b[0m\u001b[0;34m]\u001b[0m\u001b[0;34m)\u001b[0m\u001b[0;34m\u001b[0m\u001b[0;34m\u001b[0m\u001b[0m\n\u001b[1;32m      3\u001b[0m \u001b[0mprint\u001b[0m\u001b[0;34m(\u001b[0m\u001b[0mcorr_alc_vs_pop\u001b[0m\u001b[0;34m)\u001b[0m\u001b[0;34m\u001b[0m\u001b[0;34m\u001b[0m\u001b[0m\n",
      "\u001b[0;32m~/Desktop/NYPD_project/mylib/data_processing.py\u001b[0m in \u001b[0;36m?\u001b[0;34m(data1, data2, column1, column2)\u001b[0m\n\u001b[1;32m    157\u001b[0m     \u001b[0;34m:\u001b[0m\u001b[0mparam\u001b[0m \u001b[0mdata2\u001b[0m\u001b[0;34m:\u001b[0m \u001b[0mSecond\u001b[0m \u001b[0minput\u001b[0m \u001b[0mdata\u001b[0m \u001b[0mframe\u001b[0m\u001b[0;34m\u001b[0m\u001b[0;34m\u001b[0m\u001b[0m\n\u001b[1;32m    158\u001b[0m     \u001b[0;34m:\u001b[0m\u001b[0mparam\u001b[0m \u001b[0mcolumn1\u001b[0m\u001b[0;34m:\u001b[0m \u001b[0mColumn\u001b[0m \u001b[0mname\u001b[0m \u001b[0mto\u001b[0m \u001b[0mmerge\u001b[0m \u001b[0mon\u001b[0m \u001b[0;32min\u001b[0m \u001b[0mdata1\u001b[0m\u001b[0;34m\u001b[0m\u001b[0;34m\u001b[0m\u001b[0m\n\u001b[1;32m    159\u001b[0m     \u001b[0;34m:\u001b[0m\u001b[0mparam\u001b[0m \u001b[0mcolumn2\u001b[0m\u001b[0;34m:\u001b[0m \u001b[0mColumn\u001b[0m \u001b[0mname\u001b[0m \u001b[0mto\u001b[0m \u001b[0mmerge\u001b[0m \u001b[0mon\u001b[0m \u001b[0;32min\u001b[0m \u001b[0mdata2\u001b[0m\u001b[0;34m\u001b[0m\u001b[0;34m\u001b[0m\u001b[0m\n\u001b[1;32m    160\u001b[0m     \"\"\"\n\u001b[0;32m--> 161\u001b[0;31m     \u001b[0;32mreturn\u001b[0m \u001b[0mpd\u001b[0m\u001b[0;34m.\u001b[0m\u001b[0mmerge\u001b[0m\u001b[0;34m(\u001b[0m\u001b[0mdata1\u001b[0m\u001b[0;34m,\u001b[0m \u001b[0mdata2\u001b[0m\u001b[0;34m,\u001b[0m \u001b[0mleft_on\u001b[0m\u001b[0;34m=\u001b[0m\u001b[0mcolumn1\u001b[0m\u001b[0;34m,\u001b[0m \u001b[0mright_on\u001b[0m\u001b[0;34m=\u001b[0m\u001b[0mcolumn2\u001b[0m\u001b[0;34m,\u001b[0m \u001b[0mhow\u001b[0m\u001b[0;34m=\u001b[0m\u001b[0;34m'inner'\u001b[0m\u001b[0;34m)\u001b[0m\u001b[0;34m\u001b[0m\u001b[0;34m\u001b[0m\u001b[0m\n\u001b[0m",
      "\u001b[0;32m~/Desktop/NYPD_project/venv/lib/python3.9/site-packages/pandas/core/reshape/merge.py\u001b[0m in \u001b[0;36m?\u001b[0;34m(left, right, how, on, left_on, right_on, left_index, right_index, sort, suffixes, copy, indicator, validate)\u001b[0m\n\u001b[1;32m    166\u001b[0m             \u001b[0mvalidate\u001b[0m\u001b[0;34m=\u001b[0m\u001b[0mvalidate\u001b[0m\u001b[0;34m,\u001b[0m\u001b[0;34m\u001b[0m\u001b[0;34m\u001b[0m\u001b[0m\n\u001b[1;32m    167\u001b[0m             \u001b[0mcopy\u001b[0m\u001b[0;34m=\u001b[0m\u001b[0mcopy\u001b[0m\u001b[0;34m,\u001b[0m\u001b[0;34m\u001b[0m\u001b[0;34m\u001b[0m\u001b[0m\n\u001b[1;32m    168\u001b[0m         )\n\u001b[1;32m    169\u001b[0m     \u001b[0;32melse\u001b[0m\u001b[0;34m:\u001b[0m\u001b[0;34m\u001b[0m\u001b[0;34m\u001b[0m\u001b[0m\n\u001b[0;32m--> 170\u001b[0;31m         op = _MergeOperation(\n\u001b[0m\u001b[1;32m    171\u001b[0m             \u001b[0mleft_df\u001b[0m\u001b[0;34m,\u001b[0m\u001b[0;34m\u001b[0m\u001b[0;34m\u001b[0m\u001b[0m\n\u001b[1;32m    172\u001b[0m             \u001b[0mright_df\u001b[0m\u001b[0;34m,\u001b[0m\u001b[0;34m\u001b[0m\u001b[0;34m\u001b[0m\u001b[0m\n\u001b[1;32m    173\u001b[0m             \u001b[0mhow\u001b[0m\u001b[0;34m=\u001b[0m\u001b[0mhow\u001b[0m\u001b[0;34m,\u001b[0m\u001b[0;34m\u001b[0m\u001b[0;34m\u001b[0m\u001b[0m\n",
      "\u001b[0;32m~/Desktop/NYPD_project/venv/lib/python3.9/site-packages/pandas/core/reshape/merge.py\u001b[0m in \u001b[0;36m?\u001b[0;34m(self, left, right, how, on, left_on, right_on, left_index, right_index, sort, suffixes, indicator, validate)\u001b[0m\n\u001b[1;32m    790\u001b[0m             \u001b[0mself\u001b[0m\u001b[0;34m.\u001b[0m\u001b[0mright_join_keys\u001b[0m\u001b[0;34m,\u001b[0m\u001b[0;34m\u001b[0m\u001b[0;34m\u001b[0m\u001b[0m\n\u001b[1;32m    791\u001b[0m             \u001b[0mself\u001b[0m\u001b[0;34m.\u001b[0m\u001b[0mjoin_names\u001b[0m\u001b[0;34m,\u001b[0m\u001b[0;34m\u001b[0m\u001b[0;34m\u001b[0m\u001b[0m\n\u001b[1;32m    792\u001b[0m             \u001b[0mleft_drop\u001b[0m\u001b[0;34m,\u001b[0m\u001b[0;34m\u001b[0m\u001b[0;34m\u001b[0m\u001b[0m\n\u001b[1;32m    793\u001b[0m             \u001b[0mright_drop\u001b[0m\u001b[0;34m,\u001b[0m\u001b[0;34m\u001b[0m\u001b[0;34m\u001b[0m\u001b[0m\n\u001b[0;32m--> 794\u001b[0;31m         ) = self._get_merge_keys()\n\u001b[0m\u001b[1;32m    795\u001b[0m \u001b[0;34m\u001b[0m\u001b[0m\n\u001b[1;32m    796\u001b[0m         \u001b[0;32mif\u001b[0m \u001b[0mleft_drop\u001b[0m\u001b[0;34m:\u001b[0m\u001b[0;34m\u001b[0m\u001b[0;34m\u001b[0m\u001b[0m\n\u001b[1;32m    797\u001b[0m             \u001b[0mself\u001b[0m\u001b[0;34m.\u001b[0m\u001b[0mleft\u001b[0m \u001b[0;34m=\u001b[0m \u001b[0mself\u001b[0m\u001b[0;34m.\u001b[0m\u001b[0mleft\u001b[0m\u001b[0;34m.\u001b[0m\u001b[0m_drop_labels_or_levels\u001b[0m\u001b[0;34m(\u001b[0m\u001b[0mleft_drop\u001b[0m\u001b[0;34m)\u001b[0m\u001b[0;34m\u001b[0m\u001b[0;34m\u001b[0m\u001b[0m\n",
      "\u001b[0;32m~/Desktop/NYPD_project/venv/lib/python3.9/site-packages/pandas/core/reshape/merge.py\u001b[0m in \u001b[0;36m?\u001b[0;34m(self)\u001b[0m\n\u001b[1;32m   1293\u001b[0m                         \u001b[0;31m# Then we're either Hashable or a wrong-length arraylike,\u001b[0m\u001b[0;34m\u001b[0m\u001b[0;34m\u001b[0m\u001b[0m\n\u001b[1;32m   1294\u001b[0m                         \u001b[0;31m#  the latter of which will raise\u001b[0m\u001b[0;34m\u001b[0m\u001b[0;34m\u001b[0m\u001b[0m\n\u001b[1;32m   1295\u001b[0m                         \u001b[0mrk\u001b[0m \u001b[0;34m=\u001b[0m \u001b[0mcast\u001b[0m\u001b[0;34m(\u001b[0m\u001b[0mHashable\u001b[0m\u001b[0;34m,\u001b[0m \u001b[0mrk\u001b[0m\u001b[0;34m)\u001b[0m\u001b[0;34m\u001b[0m\u001b[0;34m\u001b[0m\u001b[0m\n\u001b[1;32m   1296\u001b[0m                         \u001b[0;32mif\u001b[0m \u001b[0mrk\u001b[0m \u001b[0;32mis\u001b[0m \u001b[0;32mnot\u001b[0m \u001b[0;32mNone\u001b[0m\u001b[0;34m:\u001b[0m\u001b[0;34m\u001b[0m\u001b[0;34m\u001b[0m\u001b[0m\n\u001b[0;32m-> 1297\u001b[0;31m                             \u001b[0mright_keys\u001b[0m\u001b[0;34m.\u001b[0m\u001b[0mappend\u001b[0m\u001b[0;34m(\u001b[0m\u001b[0mright\u001b[0m\u001b[0;34m.\u001b[0m\u001b[0m_get_label_or_level_values\u001b[0m\u001b[0;34m(\u001b[0m\u001b[0mrk\u001b[0m\u001b[0;34m)\u001b[0m\u001b[0;34m)\u001b[0m\u001b[0;34m\u001b[0m\u001b[0;34m\u001b[0m\u001b[0m\n\u001b[0m\u001b[1;32m   1298\u001b[0m                         \u001b[0;32melse\u001b[0m\u001b[0;34m:\u001b[0m\u001b[0;34m\u001b[0m\u001b[0;34m\u001b[0m\u001b[0m\n\u001b[1;32m   1299\u001b[0m                             \u001b[0;31m# work-around for merge_asof(right_index=True)\u001b[0m\u001b[0;34m\u001b[0m\u001b[0;34m\u001b[0m\u001b[0m\n\u001b[1;32m   1300\u001b[0m                             \u001b[0mright_keys\u001b[0m\u001b[0;34m.\u001b[0m\u001b[0mappend\u001b[0m\u001b[0;34m(\u001b[0m\u001b[0mright\u001b[0m\u001b[0;34m.\u001b[0m\u001b[0mindex\u001b[0m\u001b[0;34m.\u001b[0m\u001b[0m_values\u001b[0m\u001b[0;34m)\u001b[0m\u001b[0;34m\u001b[0m\u001b[0;34m\u001b[0m\u001b[0m\n",
      "\u001b[0;32m~/Desktop/NYPD_project/venv/lib/python3.9/site-packages/pandas/core/generic.py\u001b[0m in \u001b[0;36m?\u001b[0;34m(self, key, axis)\u001b[0m\n\u001b[1;32m   1907\u001b[0m             \u001b[0mvalues\u001b[0m \u001b[0;34m=\u001b[0m \u001b[0mself\u001b[0m\u001b[0;34m.\u001b[0m\u001b[0mxs\u001b[0m\u001b[0;34m(\u001b[0m\u001b[0mkey\u001b[0m\u001b[0;34m,\u001b[0m \u001b[0maxis\u001b[0m\u001b[0;34m=\u001b[0m\u001b[0mother_axes\u001b[0m\u001b[0;34m[\u001b[0m\u001b[0;36m0\u001b[0m\u001b[0;34m]\u001b[0m\u001b[0;34m)\u001b[0m\u001b[0;34m.\u001b[0m\u001b[0m_values\u001b[0m\u001b[0;34m\u001b[0m\u001b[0;34m\u001b[0m\u001b[0m\n\u001b[1;32m   1908\u001b[0m         \u001b[0;32melif\u001b[0m \u001b[0mself\u001b[0m\u001b[0;34m.\u001b[0m\u001b[0m_is_level_reference\u001b[0m\u001b[0;34m(\u001b[0m\u001b[0mkey\u001b[0m\u001b[0;34m,\u001b[0m \u001b[0maxis\u001b[0m\u001b[0;34m=\u001b[0m\u001b[0maxis\u001b[0m\u001b[0;34m)\u001b[0m\u001b[0;34m:\u001b[0m\u001b[0;34m\u001b[0m\u001b[0;34m\u001b[0m\u001b[0m\n\u001b[1;32m   1909\u001b[0m             \u001b[0mvalues\u001b[0m \u001b[0;34m=\u001b[0m \u001b[0mself\u001b[0m\u001b[0;34m.\u001b[0m\u001b[0maxes\u001b[0m\u001b[0;34m[\u001b[0m\u001b[0maxis\u001b[0m\u001b[0;34m]\u001b[0m\u001b[0;34m.\u001b[0m\u001b[0mget_level_values\u001b[0m\u001b[0;34m(\u001b[0m\u001b[0mkey\u001b[0m\u001b[0;34m)\u001b[0m\u001b[0;34m.\u001b[0m\u001b[0m_values\u001b[0m\u001b[0;34m\u001b[0m\u001b[0;34m\u001b[0m\u001b[0m\n\u001b[1;32m   1910\u001b[0m         \u001b[0;32melse\u001b[0m\u001b[0;34m:\u001b[0m\u001b[0;34m\u001b[0m\u001b[0;34m\u001b[0m\u001b[0m\n\u001b[0;32m-> 1911\u001b[0;31m             \u001b[0;32mraise\u001b[0m \u001b[0mKeyError\u001b[0m\u001b[0;34m(\u001b[0m\u001b[0mkey\u001b[0m\u001b[0;34m)\u001b[0m\u001b[0;34m\u001b[0m\u001b[0;34m\u001b[0m\u001b[0m\n\u001b[0m\u001b[1;32m   1912\u001b[0m \u001b[0;34m\u001b[0m\u001b[0m\n\u001b[1;32m   1913\u001b[0m         \u001b[0;31m# Check for duplicates\u001b[0m\u001b[0;34m\u001b[0m\u001b[0;34m\u001b[0m\u001b[0m\n\u001b[1;32m   1914\u001b[0m         \u001b[0;32mif\u001b[0m \u001b[0mvalues\u001b[0m\u001b[0;34m.\u001b[0m\u001b[0mndim\u001b[0m \u001b[0;34m>\u001b[0m \u001b[0;36m1\u001b[0m\u001b[0;34m:\u001b[0m\u001b[0;34m\u001b[0m\u001b[0;34m\u001b[0m\u001b[0m\n",
      "\u001b[0;31mKeyError\u001b[0m: 'Nazwa jednostki'"
     ]
    }
   ],
   "source": [
    "alcohol_vs_population = dp.custom_merge(alcohol_data, population_data, 'Miejscowość', 'Nazwa jednostki')\n",
    "corr_alc_vs_pop = alcohol_vs_population[\"Count\"].corr(alcohol_vs_population[\"Populacja\"])\n",
    "print(corr_alc_vs_pop)"
   ]
  }
 ],
 "metadata": {
  "kernelspec": {
   "display_name": "venv",
   "language": "python",
   "name": "python3"
  },
  "language_info": {
   "codemirror_mode": {
    "name": "ipython",
    "version": 3
   },
   "file_extension": ".py",
   "mimetype": "text/x-python",
   "name": "python",
   "nbconvert_exporter": "python",
   "pygments_lexer": "ipython3",
   "version": "3.9.13"
  }
 },
 "nbformat": 4,
 "nbformat_minor": 2
}
